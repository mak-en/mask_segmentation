{
  "cells": [
    {
      "cell_type": "markdown",
      "metadata": {
        "id": "hQfrnKQMQB86"
      },
      "source": [
        "Data downloading and preparation"
      ]
    },
    {
      "cell_type": "code",
      "execution_count": null,
      "metadata": {
        "id": "muAXNgKdQB8_"
      },
      "outputs": [],
      "source": [
        "# Clone the repo\n",
        "# !git clone https://github.com/mak-ov/mask_segmentation.git\n",
        "\n",
        "# Kaggle token\n",
        "!pip install -q kaggle\n",
        "from google.colab import files\n",
        "files.upload()\n",
        "!mkdir ./.kaggle\n",
        "!cp kaggle.json ./.kaggle/\n",
        "!chmod 600 kaggle.json\n",
        "\n",
        "# Download dataset\n",
        "!kaggle datasets download -d perke986/face-mask-segmentation-dataset\n",
        "\n",
        "# Create a data directory and unzip the data in it\n",
        "!mkdir ./mask_segmentation/data\n",
        "!unzip face-mask-segmentation-dataset.zip -d ./mask_segmentation/data/"
      ]
    },
    {
      "cell_type": "code",
      "execution_count": null,
      "metadata": {
        "id": "WLL3sqvtQB8_"
      },
      "outputs": [],
      "source": [
        "! python train.py --data_path \"data/\" --cpu_number 1"
      ]
    }
  ],
  "metadata": {
    "language_info": {
      "name": "python"
    },
    "orig_nbformat": 4,
    "colab": {
      "name": "colab_run.ipynb",
      "provenance": []
    },
    "kernelspec": {
      "name": "python3",
      "display_name": "Python 3"
    },
    "accelerator": "GPU"
  },
  "nbformat": 4,
  "nbformat_minor": 0
}