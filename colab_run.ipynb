{
  "cells": [
    {
      "cell_type": "markdown",
      "metadata": {
        "id": "hQfrnKQMQB86"
      },
      "source": [
        "Data downloading and preparation"
      ]
    },
    {
      "cell_type": "code",
      "execution_count": null,
      "metadata": {
        "id": "muAXNgKdQB8_"
      },
      "outputs": [],
      "source": [
        "# Clone the repo\n",
        "!git clone https://github.com/mak-ov/mask_segmentation.git\n",
        "\n",
        "# Install dependences\n",
        "%cd ./mask_segmentation/\n",
        "!pip install -r requirements.txt\n",
        "\n",
        "# Kaggle token\n",
        "!pip install -q kaggle\n",
        "from google.colab import files\n",
        "files.upload()\n",
        "!mkdir ~/.kaggle/ # Has to be the root (~) directory\n",
        "!cp kaggle.json ~/.kaggle/\n",
        "!chmod 600 ~/.kaggle/kaggle.json\n",
        "!rm -rf ./kaggle.json\n",
        "\n",
        "# Download dataset\n",
        "!kaggle datasets download -d perke986/face-mask-segmentation-dataset\n",
        "\n",
        "# Create a data directory and unzip the data in it\n",
        "!mkdir ./unsorted_data\n",
        "!unzip face-mask-segmentation-dataset.zip -d ./unsorted_data/\n",
        "!rm -rf ../face-mask-segmentation-dataset.zip"
      ]
    },
    {
      "cell_type": "code",
      "source": [
        "!rm -rf ./mask_segmentation/data/"
      ],
      "metadata": {
        "id": "eUMlRq9Ry7tz"
      },
      "execution_count": 4,
      "outputs": []
    },
    {
      "cell_type": "code",
      "source": [
        "%cd ..\n",
        "!rm -rf ./mask_segmentation/"
      ],
      "metadata": {
        "id": "oHg_ZHZ1zXZK",
        "outputId": "7132a6da-7853-4496-9be0-ec6af5ef6073",
        "colab": {
          "base_uri": "https://localhost:8080/"
        }
      },
      "execution_count": 33,
      "outputs": [
        {
          "output_type": "stream",
          "name": "stdout",
          "text": [
            "/content\n"
          ]
        }
      ]
    },
    {
      "cell_type": "code",
      "execution_count": 26,
      "metadata": {
        "id": "WLL3sqvtQB8_",
        "outputId": "2f678961-659a-476d-c521-8c070251edfa",
        "colab": {
          "base_uri": "https://localhost:8080/"
        }
      },
      "outputs": [
        {
          "output_type": "stream",
          "name": "stdout",
          "text": [
            "Requirement already satisfied: split-folders in /usr/local/lib/python3.7/dist-packages (0.5.1)\n",
            "Copying files: 444 files [00:00, 2784.69 files/s]\n"
          ]
        }
      ],
      "source": [
        "# Prepare the sorted dataset\n",
        "!pip install split-folders\n",
        "import splitfolders\n",
        "!python prepare_dataset.py --in_data_path \"./unsorted_data/\" \\\n",
        "                           --out_data_path \"./data/\"\n",
        "!rm -rf ./unsorted_data/"
      ]
    },
    {
      "cell_type": "code",
      "source": [
        "# Train\n",
        "!python train.py --data_path \"./data/\""
      ],
      "metadata": {
        "id": "gskme9sh3slY",
        "outputId": "9e0d6c19-7810-4241-f91b-4ed6332b5a16",
        "colab": {
          "base_uri": "https://localhost:8080/"
        }
      },
      "execution_count": 28,
      "outputs": [
        {
          "output_type": "stream",
          "name": "stdout",
          "text": [
            "Traceback (most recent call last):\n",
            "  File \"train.py\", line 5, in <module>\n",
            "    import wandb\n",
            "ModuleNotFoundError: No module named 'wandb'\n"
          ]
        }
      ]
    }
  ],
  "metadata": {
    "language_info": {
      "name": "python"
    },
    "orig_nbformat": 4,
    "colab": {
      "name": "colab_run.ipynb",
      "provenance": []
    },
    "kernelspec": {
      "name": "python3",
      "display_name": "Python 3"
    }
  },
  "nbformat": 4,
  "nbformat_minor": 0
}