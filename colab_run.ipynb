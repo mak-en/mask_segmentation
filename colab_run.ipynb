{
  "cells": [
    {
      "cell_type": "markdown",
      "metadata": {
        "id": "hQfrnKQMQB86"
      },
      "source": [
        "Data downloading and preparation"
      ]
    },
    {
      "cell_type": "code",
      "execution_count": 1,
      "metadata": {
        "id": "muAXNgKdQB8_",
        "outputId": "64f8cff8-5157-4d1b-d2ef-16f8fab747c9",
        "colab": {
          "base_uri": "https://localhost:8080/"
        }
      },
      "outputs": [
        {
          "output_type": "stream",
          "name": "stdout",
          "text": [
            "Cloning into 'mask_segmentation'...\n",
            "remote: Enumerating objects: 198, done.\u001b[K\n",
            "remote: Total 198 (delta 0), reused 0 (delta 0), pack-reused 198\u001b[K\n",
            "Receiving objects: 100% (198/198), 38.23 KiB | 954.00 KiB/s, done.\n",
            "Resolving deltas: 100% (105/105), done.\n"
          ]
        }
      ],
      "source": [
        "!git clone https://github.com/mak-ov/mask_segmentation.git"
      ]
    },
    {
      "cell_type": "code",
      "source": [
        "! pip install -q kaggle\n",
        "from google.colab import files\n",
        "files.upload()"
      ],
      "metadata": {
        "id": "nDM49tE-QYDH",
        "outputId": "cd938490-45c7-4f2f-e6fd-eec280c713f5",
        "colab": {
          "resources": {
            "http://localhost:8080/nbextensions/google.colab/files.js": {
              "data": "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",
              "ok": true,
              "headers": [
                [
                  "content-type",
                  "application/javascript"
                ]
              ],
              "status": 200,
              "status_text": ""
            }
          },
          "base_uri": "https://localhost:8080/",
          "height": 91
        }
      },
      "execution_count": 3,
      "outputs": [
        {
          "output_type": "display_data",
          "data": {
            "text/plain": [
              "<IPython.core.display.HTML object>"
            ],
            "text/html": [
              "\n",
              "     <input type=\"file\" id=\"files-fe49b752-be9c-4545-8f20-cb415bfad2a8\" name=\"files[]\" multiple disabled\n",
              "        style=\"border:none\" />\n",
              "     <output id=\"result-fe49b752-be9c-4545-8f20-cb415bfad2a8\">\n",
              "      Upload widget is only available when the cell has been executed in the\n",
              "      current browser session. Please rerun this cell to enable.\n",
              "      </output>\n",
              "      <script src=\"/nbextensions/google.colab/files.js\"></script> "
            ]
          },
          "metadata": {}
        },
        {
          "output_type": "stream",
          "name": "stdout",
          "text": [
            "Saving kaggle.json to kaggle.json\n"
          ]
        },
        {
          "output_type": "execute_result",
          "data": {
            "text/plain": [
              "{'kaggle.json': b'{\"username\":\"antonmakoveev\",\"key\":\"591f9fbd7e56dd29ead92c9be97e2b91\"}'}"
            ]
          },
          "metadata": {},
          "execution_count": 3
        }
      ]
    },
    {
      "cell_type": "code",
      "source": [
        "%cd ../"
      ],
      "metadata": {
        "id": "CVVip85hSKWv",
        "outputId": "2ca56c3b-8ae8-4d15-c402-79fe5cc6a2a2",
        "colab": {
          "base_uri": "https://localhost:8080/"
        }
      },
      "execution_count": 28,
      "outputs": [
        {
          "output_type": "stream",
          "name": "stdout",
          "text": [
            "/content\n"
          ]
        }
      ]
    },
    {
      "cell_type": "code",
      "source": [
        "! pwd"
      ],
      "metadata": {
        "id": "dXOST4lsSWuL",
        "outputId": "2e124be2-6c63-4fa2-8cb7-ba0d5493df54",
        "colab": {
          "base_uri": "https://localhost:8080/"
        }
      },
      "execution_count": 29,
      "outputs": [
        {
          "output_type": "stream",
          "name": "stdout",
          "text": [
            "/content\n"
          ]
        }
      ]
    },
    {
      "cell_type": "code",
      "source": [
        "! mkdir ~/.kaggle\n",
        "\n",
        "! cp kaggle.json ~/.kaggle/"
      ],
      "metadata": {
        "id": "a7i2f9glTPSv",
        "outputId": "8f845053-6b8d-45a1-c47c-5bcf031c13e0",
        "colab": {
          "base_uri": "https://localhost:8080/"
        }
      },
      "execution_count": 31,
      "outputs": [
        {
          "output_type": "stream",
          "name": "stdout",
          "text": [
            "mkdir: cannot create directory ‘/root/.kaggle’: File exists\n"
          ]
        }
      ]
    },
    {
      "cell_type": "code",
      "source": [
        "! chmod 600 ~/.kaggle/kaggle.json"
      ],
      "metadata": {
        "id": "W1WjkmDxT8tP"
      },
      "execution_count": 32,
      "outputs": []
    },
    {
      "cell_type": "code",
      "source": [
        "! kaggle datasets list"
      ],
      "metadata": {
        "id": "152q15JZT-EG",
        "outputId": "a0befc86-1287-49f5-d7c3-3ff9795426fb",
        "colab": {
          "base_uri": "https://localhost:8080/"
        }
      },
      "execution_count": 33,
      "outputs": [
        {
          "output_type": "stream",
          "name": "stdout",
          "text": [
            "ref                                                                            title                                             size  lastUpdated          downloadCount  voteCount  usabilityRating  \n",
            "-----------------------------------------------------------------------------  -----------------------------------------------  -----  -------------------  -------------  ---------  ---------------  \n",
            "datasets/muratkokludataset/acoustic-extinguisher-fire-dataset                  Acoustic Extinguisher Fire Dataset               621KB  2022-04-02 22:59:36           1157        745  0.9375           \n",
            "datasets/muratkokludataset/rice-image-dataset                                  Rice Image Dataset                               219MB  2022-04-03 02:12:00           1234        688  0.875            \n",
            "datasets/mdmahmudulhasansuzan/students-adaptability-level-in-online-education  Students Adaptability Level in Online Education    6KB  2022-04-16 04:46:28           4341        107  1.0              \n",
            "datasets/muratkokludataset/raisin-dataset                                      Raisin Dataset                                   112KB  2022-04-03 00:23:16            526        611  0.9375           \n",
            "datasets/muratkokludataset/pistachio-dataset                                   Pistachio Dataset                                  2MB  2022-04-03 08:38:21            537        630  0.9375           \n",
            "datasets/muratkokludataset/dry-bean-dataset                                    Dry Bean Dataset                                   5MB  2022-04-02 23:19:30            392        610  0.9375           \n",
            "datasets/muratkokludataset/pistachio-image-dataset                             Pistachio Image Dataset                           27MB  2022-03-28 18:01:27            447        673  0.9375           \n",
            "datasets/muratkokludataset/grapevine-leaves-image-dataset                      Grapevine Leaves Image Dataset                   109MB  2022-04-03 09:00:54            150        640  0.875            \n",
            "datasets/muratkokludataset/rice-msc-dataset                                    Rice MSC Dataset                                 102MB  2022-04-03 01:33:52            201        600  0.9375           \n",
            "datasets/muratkokludataset/pumpkin-seeds-dataset                               Pumpkin Seeds Dataset                            393KB  2022-03-28 18:28:16            489        608  0.9375           \n",
            "datasets/muratkokludataset/durum-wheat-dataset                                 Durum Wheat Dataset                              983MB  2022-04-03 00:02:29             95        614  0.875            \n",
            "datasets/muratkokludataset/rice-dataset-commeo-and-osmancik                    Rice Dataset Commeo and Osmancik                 524KB  2022-04-03 00:40:03            104        592  0.875            \n",
            "datasets/muhmores/spotify-top-100-songs-of-20152019                            Spotify Top 100 Songs of 2010-2019               139KB  2022-04-09 06:35:36           4993        105  0.88235295       \n",
            "datasets/rinichristy/covid19-coronavirus-pandemic                              COVID-19 Coronavirus Pandemic                      9KB  2022-04-05 08:43:16           3424         72  1.0              \n",
            "datasets/aslanahmedov/walmart-sales-forecast                                   Walmart Sales Forecast                             3MB  2022-04-21 05:28:20           2214         57  1.0              \n",
            "datasets/digvijaysinhgohil/covid19-data-deaths-and-vaccinations                Covid-19 Data Deaths and Vaccinations              2MB  2022-05-04 19:06:58            643         20  1.0              \n",
            "datasets/alexandrparkhomenko/top-apps-in-google-play                           Top Apps in Google Play                            3KB  2022-04-29 05:16:34            974         40  1.0              \n",
            "datasets/samuelcortinhas/credit-card-approval-clean-data                       Credit Card Approvals (Clean Data)                19KB  2022-04-25 15:52:35           1548         37  1.0              \n",
            "datasets/awsaf49/uwmgi-mask-dataset                                            UWMGI: Mask Dataset                               77MB  2022-04-24 17:46:47            602         39  0.7647059        \n",
            "datasets/alanjo/smartphone-processors-ranking                                  📱Smartphone Processors Ranking & Scores📊          11KB  2022-05-11 17:03:00            371         27  1.0              \n"
          ]
        }
      ]
    },
    {
      "cell_type": "code",
      "source": [
        "!kaggle datasets download -d perke986/face-mask-segmentation-dataset"
      ],
      "metadata": {
        "id": "_7vzJnxEU4_e",
        "outputId": "241aed49-bbe0-4f62-c1e9-6a37445c8c20",
        "colab": {
          "base_uri": "https://localhost:8080/"
        }
      },
      "execution_count": 39,
      "outputs": [
        {
          "output_type": "stream",
          "name": "stdout",
          "text": [
            "Downloading face-mask-segmentation-dataset.zip to /content\n",
            " 80% 63.0M/78.9M [00:01<00:00, 57.3MB/s]\n",
            "100% 78.9M/78.9M [00:01<00:00, 58.7MB/s]\n"
          ]
        }
      ]
    },
    {
      "cell_type": "code",
      "source": [
        "! mkdir ./mask_segmentation/data"
      ],
      "metadata": {
        "id": "8GvAhO5ORnwa"
      },
      "execution_count": 40,
      "outputs": []
    },
    {
      "cell_type": "code",
      "source": [
        "! rm ./mask_segmentation/data/"
      ],
      "metadata": {
        "id": "2Paky4_LV09S",
        "outputId": "00a4eb22-471f-4afa-fc6a-dedf5ed3315d",
        "colab": {
          "base_uri": "https://localhost:8080/"
        }
      },
      "execution_count": 42,
      "outputs": [
        {
          "output_type": "stream",
          "name": "stdout",
          "text": [
            "rm: cannot remove './mask_segmentation/data/': Is a directory\n"
          ]
        }
      ]
    },
    {
      "cell_type": "code",
      "source": [
        "! unzip face-mask-segmentation-dataset.zip -d ./mask_segmentation/data/"
      ],
      "metadata": {
        "id": "KbU56F0vVV2q",
        "outputId": "5ae2fdca-bd0b-42b9-a851-c0f687da3502",
        "colab": {
          "base_uri": "https://localhost:8080/"
        }
      },
      "execution_count": 41,
      "outputs": [
        {
          "output_type": "stream",
          "name": "stdout",
          "text": [
            "Archive:  face-mask-segmentation-dataset.zip\n",
            "  inflating: ./mask_segmentation/data/Info.txt  \n",
            "  inflating: ./mask_segmentation/data/images/coronavirus-4947340_1920.jpg  \n",
            "  inflating: ./mask_segmentation/data/images/coronavirus-5064371_1920.jpg  \n",
            "  inflating: ./mask_segmentation/data/images/mask-4898571_1920.jpg  \n",
            "  inflating: ./mask_segmentation/data/images/mask-5136259_1920.jpg  \n",
            "  inflating: ./mask_segmentation/data/images/mouth-guard-5060809_1920.jpg  \n",
            "  inflating: ./mask_segmentation/data/images/mouth-guard-5068146_1920.jpg  \n",
            "  inflating: ./mask_segmentation/data/images/nurse-4962034_1920.jpg  \n",
            "  inflating: ./mask_segmentation/data/images/pexels-andrea-piacquadio-3881247.jpg  \n",
            "  inflating: ./mask_segmentation/data/images/pexels-anna-shvets-3902881.jpg  \n",
            "  inflating: ./mask_segmentation/data/images/pexels-anna-shvets-3943881.jpg  \n",
            "  inflating: ./mask_segmentation/data/images/pexels-anna-shvets-3943882.jpg  \n",
            "  inflating: ./mask_segmentation/data/images/pexels-anna-shvets-3943883.jpg  \n",
            "  inflating: ./mask_segmentation/data/images/pexels-anna-shvets-3943884.jpg  \n",
            "  inflating: ./mask_segmentation/data/images/pexels-anna-shvets-3943910.jpg  \n",
            "  inflating: ./mask_segmentation/data/images/pexels-anna-shvets-3943952.jpg  \n",
            "  inflating: ./mask_segmentation/data/images/pexels-anna-shvets-3943953.jpg  \n",
            "  inflating: ./mask_segmentation/data/images/pexels-anna-shvets-3943954.jpg  \n",
            "  inflating: ./mask_segmentation/data/images/pexels-anna-shvets-3962212.jpg  \n",
            "  inflating: ./mask_segmentation/data/images/pexels-anna-shvets-3962214.jpg  \n",
            "  inflating: ./mask_segmentation/data/images/pexels-anna-shvets-3962216.jpg  \n",
            "  inflating: ./mask_segmentation/data/images/pexels-anna-shvets-3962218.jpg  \n",
            "  inflating: ./mask_segmentation/data/images/pexels-anna-shvets-3962258.jpg  \n",
            "  inflating: ./mask_segmentation/data/images/pexels-anna-shvets-3962265.jpg  \n",
            "  inflating: ./mask_segmentation/data/images/pexels-anna-shvets-3962284.jpg  \n",
            "  inflating: ./mask_segmentation/data/images/pexels-anna-shvets-3962286.jpg  \n",
            "  inflating: ./mask_segmentation/data/images/pexels-anna-shvets-3962287.jpg  \n",
            "  inflating: ./mask_segmentation/data/images/pexels-anna-shvets-3962288.jpg  \n",
            "  inflating: ./mask_segmentation/data/images/pexels-anna-shvets-3962289.jpg  \n",
            "  inflating: ./mask_segmentation/data/images/pexels-anna-shvets-3962291.jpg  \n",
            "  inflating: ./mask_segmentation/data/images/pexels-anna-shvets-3962330.jpg  \n",
            "  inflating: ./mask_segmentation/data/images/pexels-anna-shvets-3962337.jpg  \n",
            "  inflating: ./mask_segmentation/data/images/pexels-anna-shvets-3986949.jpg  \n",
            "  inflating: ./mask_segmentation/data/images/pexels-anna-shvets-3986954.jpg  \n",
            "  inflating: ./mask_segmentation/data/images/pexels-anna-shvets-3986972.jpg  \n",
            "  inflating: ./mask_segmentation/data/images/pexels-anna-shvets-4586993.jpg  \n",
            "  inflating: ./mask_segmentation/data/images/pexels-anna-tarazevich-6027374.jpg  \n",
            "  inflating: ./mask_segmentation/data/images/pexels-artem-podrez-6779218.jpg  \n",
            "  inflating: ./mask_segmentation/data/images/pexels-artem-podrez-6779219.jpg  \n",
            "  inflating: ./mask_segmentation/data/images/pexels-artem-podrez-6779299.jpg  \n",
            "  inflating: ./mask_segmentation/data/images/pexels-artem-podrez-6779306.jpg  \n",
            "  inflating: ./mask_segmentation/data/images/pexels-artem-podrez-6823497.jpg  \n",
            "  inflating: ./mask_segmentation/data/images/pexels-artem-podrez-6823563.jpg  \n",
            "  inflating: ./mask_segmentation/data/images/pexels-artem-podrez-6823570.jpg  \n",
            "  inflating: ./mask_segmentation/data/images/pexels-charlotte-may-5965520.jpg  \n",
            "  inflating: ./mask_segmentation/data/images/pexels-charlotte-may-5965521.jpg  \n",
            "  inflating: ./mask_segmentation/data/images/pexels-charlotte-may-5965534.jpg  \n",
            "  inflating: ./mask_segmentation/data/images/pexels-charlotte-may-5965539.jpg  \n",
            "  inflating: ./mask_segmentation/data/images/pexels-charlotte-may-5965586.jpg  \n",
            "  inflating: ./mask_segmentation/data/images/pexels-charlotte-may-5965588.jpg  \n",
            "  inflating: ./mask_segmentation/data/images/pexels-charlotte-may-5965590.jpg  \n",
            "  inflating: ./mask_segmentation/data/images/pexels-charlotte-may-5965592.jpg  \n",
            "  inflating: ./mask_segmentation/data/images/pexels-charlotte-may-5965596.jpg  \n",
            "  inflating: ./mask_segmentation/data/images/pexels-charlotte-may-5965597.jpg  \n",
            "  inflating: ./mask_segmentation/data/images/pexels-charlotte-may-5965601.jpg  \n",
            "  inflating: ./mask_segmentation/data/images/pexels-charlotte-may-5965608.jpg  \n",
            "  inflating: ./mask_segmentation/data/images/pexels-charlotte-may-5965609.jpg  \n",
            "  inflating: ./mask_segmentation/data/images/pexels-charlotte-may-5965610.jpg  \n",
            "  inflating: ./mask_segmentation/data/images/pexels-charlotte-may-5965612.jpg  \n",
            "  inflating: ./mask_segmentation/data/images/pexels-charlotte-may-5965616.jpg  \n",
            "  inflating: ./mask_segmentation/data/images/pexels-charlotte-may-5965617.jpg  \n",
            "  inflating: ./mask_segmentation/data/images/pexels-charlotte-may-5965618.jpg  \n",
            "  inflating: ./mask_segmentation/data/images/pexels-charlotte-may-5965619.jpg  \n",
            "  inflating: ./mask_segmentation/data/images/pexels-charlotte-may-5965620.jpg  \n",
            "  inflating: ./mask_segmentation/data/images/pexels-charlotte-may-5965623.jpg  \n",
            "  inflating: ./mask_segmentation/data/images/pexels-charlotte-may-5965639.jpg  \n",
            "  inflating: ./mask_segmentation/data/images/pexels-charlotte-may-5965644.jpg  \n",
            "  inflating: ./mask_segmentation/data/images/pexels-charlotte-may-5965645.jpg  \n",
            "  inflating: ./mask_segmentation/data/images/pexels-charlotte-may-5965646.jpg  \n",
            "  inflating: ./mask_segmentation/data/images/pexels-charlotte-may-5965648.jpg  \n",
            "  inflating: ./mask_segmentation/data/images/pexels-charlotte-may-5965651.jpg  \n",
            "  inflating: ./mask_segmentation/data/images/pexels-charlotte-may-5965674.jpg  \n",
            "  inflating: ./mask_segmentation/data/images/pexels-cottonbro-3951620.jpg  \n",
            "  inflating: ./mask_segmentation/data/images/pexels-cottonbro-3951637.jpg  \n",
            "  inflating: ./mask_segmentation/data/images/pexels-cottonbro-3951864.jpg  \n",
            "  inflating: ./mask_segmentation/data/images/pexels-cottonbro-3951865.jpg  \n",
            "  inflating: ./mask_segmentation/data/images/pexels-cottonbro-3951869.jpg  \n",
            "  inflating: ./mask_segmentation/data/images/pexels-cottonbro-3951878.jpg  \n",
            "  inflating: ./mask_segmentation/data/images/pexels-cottonbro-3951882.jpg  \n",
            "  inflating: ./mask_segmentation/data/images/pexels-cottonbro-3951896.jpg  \n",
            "  inflating: ./mask_segmentation/data/images/pexels-cottonbro-3951897.jpg  \n",
            "  inflating: ./mask_segmentation/data/images/pexels-cottonbro-4604742.jpg  \n",
            "  inflating: ./mask_segmentation/data/images/pexels-edmond-dant├иs-4347447.jpg  \n",
            "  inflating: ./mask_segmentation/data/images/pexels-evelina-zhu-5434017.jpg  \n",
            "  inflating: ./mask_segmentation/data/images/pexels-evg-culture-3869390.jpg  \n",
            "  inflating: ./mask_segmentation/data/images/pexels-evg-culture-3869391.jpg  \n",
            "  inflating: ./mask_segmentation/data/images/pexels-gustavo-fring-3983407.jpg  \n",
            "  inflating: ./mask_segmentation/data/images/pexels-gustavo-fring-3985172.jpg  \n",
            "  inflating: ./mask_segmentation/data/images/pexels-gustavo-fring-4000622.jpg  \n",
            "  inflating: ./mask_segmentation/data/images/pexels-gustavo-fring-4005076.jpg  \n",
            "  inflating: ./mask_segmentation/data/images/pexels-gustavo-fring-4127323.jpg  \n",
            "  inflating: ./mask_segmentation/data/images/pexels-gustavo-fring-4127338.jpg  \n",
            "  inflating: ./mask_segmentation/data/images/pexels-gustavo-fring-4127431.jpg  \n",
            "  inflating: ./mask_segmentation/data/images/pexels-gustavo-fring-4127499.jpg  \n",
            "  inflating: ./mask_segmentation/data/images/pexels-gustavo-fring-4127590.jpg  \n",
            "  inflating: ./mask_segmentation/data/images/pexels-gustavo-fring-4254141.jpg  \n",
            "  inflating: ./mask_segmentation/data/images/pexels-ivan-samkov-4240583.jpg  \n",
            "  inflating: ./mask_segmentation/data/images/pexels-jessica-ticozzelli-5670180.jpg  \n",
            "  inflating: ./mask_segmentation/data/images/pexels-julia-m-cameron-4145249.jpg  \n",
            "  inflating: ./mask_segmentation/data/images/pexels-keira-burton-6084304.jpg  \n",
            "  inflating: ./mask_segmentation/data/images/pexels-keira-burton-6084459.jpg  \n",
            "  inflating: ./mask_segmentation/data/images/pexels-keira-burton-6084464.jpg  \n",
            "  inflating: ./mask_segmentation/data/images/pexels-keira-burton-6084467.jpg  \n",
            "  inflating: ./mask_segmentation/data/images/pexels-keira-burton-6084473.jpg  \n",
            "  inflating: ./mask_segmentation/data/images/pexels-keira-burton-6084480.jpg  \n",
            "  inflating: ./mask_segmentation/data/images/pexels-keira-burton-6084481.jpg  \n",
            "  inflating: ./mask_segmentation/data/images/pexels-keira-burton-6084483.jpg  \n",
            "  inflating: ./mask_segmentation/data/images/pexels-ketut-subiyanto-4132395.jpg  \n",
            "  inflating: ./mask_segmentation/data/images/pexels-ketut-subiyanto-4132410.jpg  \n",
            "  inflating: ./mask_segmentation/data/images/pexels-ketut-subiyanto-4429140.jpg  \n",
            "  inflating: ./mask_segmentation/data/images/pexels-ketut-subiyanto-4472975.jpg  \n",
            "  inflating: ./mask_segmentation/data/images/pexels-ketut-subiyanto-4472979.jpg  \n",
            "  inflating: ./mask_segmentation/data/images/pexels-ketut-subiyanto-4546132.jpg  \n",
            "  inflating: ./mask_segmentation/data/images/pexels-ketut-subiyanto-4546148.jpg  \n",
            "  inflating: ./mask_segmentation/data/images/pexels-laura-james-6097706.jpg  \n",
            "  inflating: ./mask_segmentation/data/images/pexels-laura-james-6097793.jpg  \n",
            "  inflating: ./mask_segmentation/data/images/pexels-laura-james-6097798.jpg  \n",
            "  inflating: ./mask_segmentation/data/images/pexels-laura-james-6097839.jpg  \n",
            "  inflating: ./mask_segmentation/data/images/pexels-laura-james-6097843.jpg  \n",
            "  inflating: ./mask_segmentation/data/images/pexels-laura-james-6097849.jpg  \n",
            "  inflating: ./mask_segmentation/data/images/pexels-laura-james-6097850.jpg  \n",
            "  inflating: ./mask_segmentation/data/images/pexels-laura-james-6097851.jpg  \n",
            "  inflating: ./mask_segmentation/data/images/pexels-laura-james-6097853.jpg  \n",
            "  inflating: ./mask_segmentation/data/images/pexels-laura-james-6097854.jpg  \n",
            "  inflating: ./mask_segmentation/data/images/pexels-laura-james-6097857.jpg  \n",
            "  inflating: ./mask_segmentation/data/images/pexels-laura-james-6097859.jpg  \n",
            "  inflating: ./mask_segmentation/data/images/pexels-laura-james-6097862.jpg  \n",
            "  inflating: ./mask_segmentation/data/images/pexels-laura-james-6097863.jpg  \n",
            "  inflating: ./mask_segmentation/data/images/pexels-laura-james-6097864.jpg  \n",
            "  inflating: ./mask_segmentation/data/images/pexels-laura-james-6097868.jpg  \n",
            "  inflating: ./mask_segmentation/data/images/pexels-laura-james-6097869.jpg  \n",
            "  inflating: ./mask_segmentation/data/images/pexels-laura-james-6097870.jpg  \n",
            "  inflating: ./mask_segmentation/data/images/pexels-laura-james-6097877.jpg  \n",
            "  inflating: ./mask_segmentation/data/images/pexels-laura-james-6097879.jpg  \n",
            "  inflating: ./mask_segmentation/data/images/pexels-laura-james-6097887.jpg  \n",
            "  inflating: ./mask_segmentation/data/images/pexels-laura-james-6097935.jpg  \n",
            "  inflating: ./mask_segmentation/data/images/pexels-laura-james-6097936.jpg  \n",
            "  inflating: ./mask_segmentation/data/images/pexels-laura-james-6097938.jpg  \n",
            "  inflating: ./mask_segmentation/data/images/pexels-laura-james-6097939.jpg  \n",
            "  inflating: ./mask_segmentation/data/images/pexels-laura-james-6097940.jpg  \n",
            "  inflating: ./mask_segmentation/data/images/pexels-laura-james-6097947.jpg  \n",
            "  inflating: ./mask_segmentation/data/images/pexels-laura-james-6097950.jpg  \n",
            "  inflating: ./mask_segmentation/data/images/pexels-laura-james-6097953.jpg  \n",
            "  inflating: ./mask_segmentation/data/images/pexels-laura-james-6097958.jpg  \n",
            "  inflating: ./mask_segmentation/data/images/pexels-laura-james-6097961.jpg  \n",
            "  inflating: ./mask_segmentation/data/images/pexels-laura-james-6097962.jpg  \n",
            "  inflating: ./mask_segmentation/data/images/pexels-laura-james-6097963.jpg  \n",
            "  inflating: ./mask_segmentation/data/images/pexels-laura-james-6097964.jpg  \n",
            "  inflating: ./mask_segmentation/data/images/pexels-laura-james-6097966.jpg  \n",
            "  inflating: ./mask_segmentation/data/images/pexels-laura-james-6097973.jpg  \n",
            "  inflating: ./mask_segmentation/data/images/pexels-laura-james-6097974.jpg  \n",
            "  inflating: ./mask_segmentation/data/images/pexels-laura-james-6097978.jpg  \n",
            "  inflating: ./mask_segmentation/data/images/pexels-laura-james-6097981.jpg  \n",
            "  inflating: ./mask_segmentation/data/images/pexels-laura-james-6097982.jpg  \n",
            "  inflating: ./mask_segmentation/data/images/pexels-laura-james-6097984.jpg  \n",
            "  inflating: ./mask_segmentation/data/images/pexels-laura-james-6097985.jpg  \n",
            "  inflating: ./mask_segmentation/data/images/pexels-laura-james-6097988.jpg  \n",
            "  inflating: ./mask_segmentation/data/images/pexels-laura-james-6097993.jpg  \n",
            "  inflating: ./mask_segmentation/data/images/pexels-laura-james-6097996.jpg  \n",
            "  inflating: ./mask_segmentation/data/images/pexels-laura-james-6098002.jpg  \n",
            "  inflating: ./mask_segmentation/data/images/pexels-laura-james-6098003.jpg  \n",
            "  inflating: ./mask_segmentation/data/images/pexels-laura-james-6098004.jpg  \n",
            "  inflating: ./mask_segmentation/data/images/pexels-laura-james-6098005.jpg  \n",
            "  inflating: ./mask_segmentation/data/images/pexels-laura-james-6098050.jpg  \n",
            "  inflating: ./mask_segmentation/data/images/pexels-laura-james-6098051.jpg  \n",
            "  inflating: ./mask_segmentation/data/images/pexels-laura-james-6098060.jpg  \n",
            "  inflating: ./mask_segmentation/data/images/pexels-laura-james-6098061.jpg  \n",
            "  inflating: ./mask_segmentation/data/images/pexels-laura-james-6098064.jpg  \n",
            "  inflating: ./mask_segmentation/data/images/pexels-laura-james-6098067.jpg  \n",
            "  inflating: ./mask_segmentation/data/images/pexels-laura-james-6098068.jpg  \n",
            "  inflating: ./mask_segmentation/data/images/pexels-laura-james-6098069.jpg  \n",
            "  inflating: ./mask_segmentation/data/images/pexels-laura-james-6098070.jpg  \n",
            "  inflating: ./mask_segmentation/data/images/pexels-laura-james-6098071.jpg  \n",
            "  inflating: ./mask_segmentation/data/images/pexels-laura-james-6098072.jpg  \n",
            "  inflating: ./mask_segmentation/data/images/pexels-laura-james-6098073.jpg  \n",
            "  inflating: ./mask_segmentation/data/images/pexels-lisa-fotios-6140873.jpg  \n",
            "  inflating: ./mask_segmentation/data/images/pexels-lucian-potlog-3991782.jpg  \n",
            "  inflating: ./mask_segmentation/data/images/pexels-maksim-goncharenok-4662960.jpg  \n",
            "  inflating: ./mask_segmentation/data/images/pexels-marcelo-chagas-4565420.jpg  \n",
            "  inflating: ./mask_segmentation/data/images/pexels-min-an-1165655.jpg  \n",
            "  inflating: ./mask_segmentation/data/images/pexels-nandhu-kumar-3991311.jpg  \n",
            "  inflating: ./mask_segmentation/data/images/pexels-natasha-lois-5070755.jpg  \n",
            "  inflating: ./mask_segmentation/data/images/pexels-norma-mortenson-4393254.jpg  \n",
            "  inflating: ./mask_segmentation/data/images/pexels-norma-mortenson-4393429.jpg  \n",
            "  inflating: ./mask_segmentation/data/images/pexels-nothing-ahead-3571628.jpg  \n",
            "  inflating: ./mask_segmentation/data/images/pexels-oleg-magni-4058869.jpg  \n",
            "  inflating: ./mask_segmentation/data/images/pexels-oleg-magni-4058871.jpg  \n",
            "  inflating: ./mask_segmentation/data/images/pexels-oleg-magni-4058872.jpg  \n",
            "  inflating: ./mask_segmentation/data/images/pexels-ono-kosuki-5999784.jpg  \n",
            "  inflating: ./mask_segmentation/data/images/pexels-ono-kosuki-5999789.jpg  \n",
            "  inflating: ./mask_segmentation/data/images/pexels-ono-kosuki-5999796.jpg  \n",
            "  inflating: ./mask_segmentation/data/images/pexels-ono-kosuki-5999938.jpg  \n",
            "  inflating: ./mask_segmentation/data/images/pexels-ono-kosuki-5999940.jpg  \n",
            "  inflating: ./mask_segmentation/data/images/pexels-ono-kosuki-5999945.jpg  \n",
            "  inflating: ./mask_segmentation/data/images/pexels-pixabay-209271.jpg  \n",
            "  inflating: ./mask_segmentation/data/images/pexels-rfstudio-4177563.jpg  \n",
            "  inflating: ./mask_segmentation/data/images/pexels-rfstudio-4177606.jpg  \n",
            "  inflating: ./mask_segmentation/data/images/pexels-rfstudio-4177640.jpg  \n",
            "  inflating: ./mask_segmentation/data/images/pexels-rfstudio-4177650.jpg  \n",
            "  inflating: ./mask_segmentation/data/images/pexels-rfstudio-4177657.jpg  \n",
            "  inflating: ./mask_segmentation/data/images/pexels-samson-katt-5225252.jpg  \n",
            "  inflating: ./mask_segmentation/data/images/pexels-sora-shimazaki-5938383.jpg  \n",
            "  inflating: ./mask_segmentation/data/images/pexels-sora-shimazaki-5938384.jpg  \n",
            "  inflating: ./mask_segmentation/data/images/pexels-sora-shimazaki-5938389.jpg  \n",
            "  inflating: ./mask_segmentation/data/images/pexels-sora-shimazaki-5938616.jpg  \n",
            "  inflating: ./mask_segmentation/data/images/pexels-sora-shimazaki-5938619.jpg  \n",
            "  inflating: ./mask_segmentation/data/images/pexels-sora-shimazaki-5938621.jpg  \n",
            "  inflating: ./mask_segmentation/data/images/pexels-sunyu-kim-2001768.jpg  \n",
            "  inflating: ./mask_segmentation/data/images/pexels-thirdman-5327585.jpg  \n",
            "  inflating: ./mask_segmentation/data/images/pexels-thirdman-5327589.jpg  \n",
            "  inflating: ./mask_segmentation/data/images/pexels-thirdman-5327872.jpg  \n",
            "  inflating: ./mask_segmentation/data/images/pexels-thirdman-5684642.jpg  \n",
            "  inflating: ./mask_segmentation/data/images/pexels-thirdman-5961414.jpg  \n",
            "  inflating: ./mask_segmentation/data/images/pexels-tima-miroshnichenko-5951644.jpg  \n",
            "  inflating: ./mask_segmentation/data/images/pexels-tima-miroshnichenko-6826787.jpg  \n",
            "  inflating: ./mask_segmentation/data/images/pexels-wendy-wei-4118828.jpg  \n",
            "  inflating: ./mask_segmentation/data/images/pexels-yogendra-singh-4037279.jpg  \n",
            "  inflating: ./mask_segmentation/data/images/pexels-zichuan-han-3941299.jpg  \n",
            "  inflating: ./mask_segmentation/data/images/pexels-╨┐╨░╨▓╨╡╨╗-╤Б╨╛╤А╨╛╨║╨╕╨╜-2324837.jpg  \n",
            "  inflating: ./mask_segmentation/data/images/student-5520411_1920.jpg  \n",
            "  inflating: ./mask_segmentation/data/images/student-5982704_1920.jpg  \n",
            "  inflating: ./mask_segmentation/data/images/teacher-5560962_1920.jpg  \n",
            "  inflating: ./mask_segmentation/data/images/woman-5951721_1920.jpg  \n",
            "  inflating: ./mask_segmentation/data/masks/coronavirus-4947340_1920.png  \n",
            "  inflating: ./mask_segmentation/data/masks/coronavirus-5064371_1920.png  \n",
            "  inflating: ./mask_segmentation/data/masks/mask-4898571_1920.png  \n",
            "  inflating: ./mask_segmentation/data/masks/mask-5136259_1920.png  \n",
            "  inflating: ./mask_segmentation/data/masks/mouth-guard-5060809_1920.png  \n",
            "  inflating: ./mask_segmentation/data/masks/mouth-guard-5068146_1920.png  \n",
            "  inflating: ./mask_segmentation/data/masks/nurse-4962034_1920.png  \n",
            "  inflating: ./mask_segmentation/data/masks/pexels-andrea-piacquadio-3881247.png  \n",
            "  inflating: ./mask_segmentation/data/masks/pexels-anna-shvets-3902881.png  \n",
            "  inflating: ./mask_segmentation/data/masks/pexels-anna-shvets-3943881.png  \n",
            "  inflating: ./mask_segmentation/data/masks/pexels-anna-shvets-3943882.png  \n",
            "  inflating: ./mask_segmentation/data/masks/pexels-anna-shvets-3943883.png  \n",
            "  inflating: ./mask_segmentation/data/masks/pexels-anna-shvets-3943884.png  \n",
            "  inflating: ./mask_segmentation/data/masks/pexels-anna-shvets-3943910.png  \n",
            "  inflating: ./mask_segmentation/data/masks/pexels-anna-shvets-3943952.png  \n",
            "  inflating: ./mask_segmentation/data/masks/pexels-anna-shvets-3943953.png  \n",
            "  inflating: ./mask_segmentation/data/masks/pexels-anna-shvets-3943954.png  \n",
            "  inflating: ./mask_segmentation/data/masks/pexels-anna-shvets-3962212.png  \n",
            "  inflating: ./mask_segmentation/data/masks/pexels-anna-shvets-3962214.png  \n",
            "  inflating: ./mask_segmentation/data/masks/pexels-anna-shvets-3962216.png  \n",
            "  inflating: ./mask_segmentation/data/masks/pexels-anna-shvets-3962218.png  \n",
            "  inflating: ./mask_segmentation/data/masks/pexels-anna-shvets-3962258.png  \n",
            "  inflating: ./mask_segmentation/data/masks/pexels-anna-shvets-3962265.png  \n",
            "  inflating: ./mask_segmentation/data/masks/pexels-anna-shvets-3962284.png  \n",
            "  inflating: ./mask_segmentation/data/masks/pexels-anna-shvets-3962286.png  \n",
            "  inflating: ./mask_segmentation/data/masks/pexels-anna-shvets-3962287.png  \n",
            "  inflating: ./mask_segmentation/data/masks/pexels-anna-shvets-3962288.png  \n",
            "  inflating: ./mask_segmentation/data/masks/pexels-anna-shvets-3962289.png  \n",
            "  inflating: ./mask_segmentation/data/masks/pexels-anna-shvets-3962291.png  \n",
            "  inflating: ./mask_segmentation/data/masks/pexels-anna-shvets-3962330.png  \n",
            "  inflating: ./mask_segmentation/data/masks/pexels-anna-shvets-3962337.png  \n",
            "  inflating: ./mask_segmentation/data/masks/pexels-anna-shvets-3986949.png  \n",
            "  inflating: ./mask_segmentation/data/masks/pexels-anna-shvets-3986954.png  \n",
            "  inflating: ./mask_segmentation/data/masks/pexels-anna-shvets-3986972.png  \n",
            "  inflating: ./mask_segmentation/data/masks/pexels-anna-shvets-4586993.png  \n",
            "  inflating: ./mask_segmentation/data/masks/pexels-anna-tarazevich-6027374.png  \n",
            "  inflating: ./mask_segmentation/data/masks/pexels-artem-podrez-6779218.png  \n",
            "  inflating: ./mask_segmentation/data/masks/pexels-artem-podrez-6779219.png  \n",
            "  inflating: ./mask_segmentation/data/masks/pexels-artem-podrez-6779299.png  \n",
            "  inflating: ./mask_segmentation/data/masks/pexels-artem-podrez-6779306.png  \n",
            "  inflating: ./mask_segmentation/data/masks/pexels-artem-podrez-6823497.png  \n",
            "  inflating: ./mask_segmentation/data/masks/pexels-artem-podrez-6823563.png  \n",
            "  inflating: ./mask_segmentation/data/masks/pexels-artem-podrez-6823570.png  \n",
            "  inflating: ./mask_segmentation/data/masks/pexels-charlotte-may-5965520.png  \n",
            "  inflating: ./mask_segmentation/data/masks/pexels-charlotte-may-5965521.png  \n",
            "  inflating: ./mask_segmentation/data/masks/pexels-charlotte-may-5965534.png  \n",
            "  inflating: ./mask_segmentation/data/masks/pexels-charlotte-may-5965539.png  \n",
            "  inflating: ./mask_segmentation/data/masks/pexels-charlotte-may-5965586.png  \n",
            "  inflating: ./mask_segmentation/data/masks/pexels-charlotte-may-5965588.png  \n",
            "  inflating: ./mask_segmentation/data/masks/pexels-charlotte-may-5965590.png  \n",
            "  inflating: ./mask_segmentation/data/masks/pexels-charlotte-may-5965592.png  \n",
            "  inflating: ./mask_segmentation/data/masks/pexels-charlotte-may-5965596.png  \n",
            "  inflating: ./mask_segmentation/data/masks/pexels-charlotte-may-5965597.png  \n",
            "  inflating: ./mask_segmentation/data/masks/pexels-charlotte-may-5965601.png  \n",
            "  inflating: ./mask_segmentation/data/masks/pexels-charlotte-may-5965608.png  \n",
            "  inflating: ./mask_segmentation/data/masks/pexels-charlotte-may-5965609.png  \n",
            "  inflating: ./mask_segmentation/data/masks/pexels-charlotte-may-5965610.png  \n",
            "  inflating: ./mask_segmentation/data/masks/pexels-charlotte-may-5965612.png  \n",
            "  inflating: ./mask_segmentation/data/masks/pexels-charlotte-may-5965616.png  \n",
            "  inflating: ./mask_segmentation/data/masks/pexels-charlotte-may-5965617.png  \n",
            "  inflating: ./mask_segmentation/data/masks/pexels-charlotte-may-5965618.png  \n",
            "  inflating: ./mask_segmentation/data/masks/pexels-charlotte-may-5965619.png  \n",
            "  inflating: ./mask_segmentation/data/masks/pexels-charlotte-may-5965620.png  \n",
            "  inflating: ./mask_segmentation/data/masks/pexels-charlotte-may-5965623.png  \n",
            "  inflating: ./mask_segmentation/data/masks/pexels-charlotte-may-5965639.png  \n",
            "  inflating: ./mask_segmentation/data/masks/pexels-charlotte-may-5965644.png  \n",
            "  inflating: ./mask_segmentation/data/masks/pexels-charlotte-may-5965645.png  \n",
            "  inflating: ./mask_segmentation/data/masks/pexels-charlotte-may-5965646.png  \n",
            "  inflating: ./mask_segmentation/data/masks/pexels-charlotte-may-5965648.png  \n",
            "  inflating: ./mask_segmentation/data/masks/pexels-charlotte-may-5965651.png  \n",
            "  inflating: ./mask_segmentation/data/masks/pexels-charlotte-may-5965674.png  \n",
            "  inflating: ./mask_segmentation/data/masks/pexels-cottonbro-3951620.png  \n",
            "  inflating: ./mask_segmentation/data/masks/pexels-cottonbro-3951637.png  \n",
            "  inflating: ./mask_segmentation/data/masks/pexels-cottonbro-3951864.png  \n",
            "  inflating: ./mask_segmentation/data/masks/pexels-cottonbro-3951865.png  \n",
            "  inflating: ./mask_segmentation/data/masks/pexels-cottonbro-3951869.png  \n",
            "  inflating: ./mask_segmentation/data/masks/pexels-cottonbro-3951878.png  \n",
            "  inflating: ./mask_segmentation/data/masks/pexels-cottonbro-3951882.png  \n",
            "  inflating: ./mask_segmentation/data/masks/pexels-cottonbro-3951896.png  \n",
            "  inflating: ./mask_segmentation/data/masks/pexels-cottonbro-3951897.png  \n",
            "  inflating: ./mask_segmentation/data/masks/pexels-cottonbro-4604742.png  \n",
            "  inflating: ./mask_segmentation/data/masks/pexels-edmond-dant├иs-4347447.png  \n",
            "  inflating: ./mask_segmentation/data/masks/pexels-evelina-zhu-5434017.png  \n",
            "  inflating: ./mask_segmentation/data/masks/pexels-evg-culture-3869390.png  \n",
            "  inflating: ./mask_segmentation/data/masks/pexels-evg-culture-3869391.png  \n",
            "  inflating: ./mask_segmentation/data/masks/pexels-gustavo-fring-3983407.png  \n",
            "  inflating: ./mask_segmentation/data/masks/pexels-gustavo-fring-3985172.png  \n",
            "  inflating: ./mask_segmentation/data/masks/pexels-gustavo-fring-4000622.png  \n",
            "  inflating: ./mask_segmentation/data/masks/pexels-gustavo-fring-4005076.png  \n",
            "  inflating: ./mask_segmentation/data/masks/pexels-gustavo-fring-4127323.png  \n",
            "  inflating: ./mask_segmentation/data/masks/pexels-gustavo-fring-4127338.png  \n",
            "  inflating: ./mask_segmentation/data/masks/pexels-gustavo-fring-4127431.png  \n",
            "  inflating: ./mask_segmentation/data/masks/pexels-gustavo-fring-4127499.png  \n",
            "  inflating: ./mask_segmentation/data/masks/pexels-gustavo-fring-4127590.png  \n",
            "  inflating: ./mask_segmentation/data/masks/pexels-gustavo-fring-4254141.png  \n",
            "  inflating: ./mask_segmentation/data/masks/pexels-ivan-samkov-4240583.png  \n",
            "  inflating: ./mask_segmentation/data/masks/pexels-jessica-ticozzelli-5670180.png  \n",
            "  inflating: ./mask_segmentation/data/masks/pexels-julia-m-cameron-4145249.png  \n",
            "  inflating: ./mask_segmentation/data/masks/pexels-keira-burton-6084304.png  \n",
            "  inflating: ./mask_segmentation/data/masks/pexels-keira-burton-6084459.png  \n",
            "  inflating: ./mask_segmentation/data/masks/pexels-keira-burton-6084464.png  \n",
            "  inflating: ./mask_segmentation/data/masks/pexels-keira-burton-6084467.png  \n",
            "  inflating: ./mask_segmentation/data/masks/pexels-keira-burton-6084473.png  \n",
            "  inflating: ./mask_segmentation/data/masks/pexels-keira-burton-6084480.png  \n",
            "  inflating: ./mask_segmentation/data/masks/pexels-keira-burton-6084481.png  \n",
            "  inflating: ./mask_segmentation/data/masks/pexels-keira-burton-6084483.png  \n",
            "  inflating: ./mask_segmentation/data/masks/pexels-ketut-subiyanto-4132395.png  \n",
            "  inflating: ./mask_segmentation/data/masks/pexels-ketut-subiyanto-4132410.png  \n",
            "  inflating: ./mask_segmentation/data/masks/pexels-ketut-subiyanto-4429140.png  \n",
            "  inflating: ./mask_segmentation/data/masks/pexels-ketut-subiyanto-4472975.png  \n",
            "  inflating: ./mask_segmentation/data/masks/pexels-ketut-subiyanto-4472979.png  \n",
            "  inflating: ./mask_segmentation/data/masks/pexels-ketut-subiyanto-4546132.png  \n",
            "  inflating: ./mask_segmentation/data/masks/pexels-ketut-subiyanto-4546148.png  \n",
            "  inflating: ./mask_segmentation/data/masks/pexels-laura-james-6097706.png  \n",
            "  inflating: ./mask_segmentation/data/masks/pexels-laura-james-6097793.png  \n",
            "  inflating: ./mask_segmentation/data/masks/pexels-laura-james-6097798.png  \n",
            "  inflating: ./mask_segmentation/data/masks/pexels-laura-james-6097839.png  \n",
            "  inflating: ./mask_segmentation/data/masks/pexels-laura-james-6097843.png  \n",
            "  inflating: ./mask_segmentation/data/masks/pexels-laura-james-6097849.png  \n",
            "  inflating: ./mask_segmentation/data/masks/pexels-laura-james-6097850.png  \n",
            "  inflating: ./mask_segmentation/data/masks/pexels-laura-james-6097851.png  \n",
            "  inflating: ./mask_segmentation/data/masks/pexels-laura-james-6097853.png  \n",
            "  inflating: ./mask_segmentation/data/masks/pexels-laura-james-6097854.png  \n",
            "  inflating: ./mask_segmentation/data/masks/pexels-laura-james-6097857.png  \n",
            "  inflating: ./mask_segmentation/data/masks/pexels-laura-james-6097859.png  \n",
            "  inflating: ./mask_segmentation/data/masks/pexels-laura-james-6097862.png  \n",
            "  inflating: ./mask_segmentation/data/masks/pexels-laura-james-6097863.png  \n",
            "  inflating: ./mask_segmentation/data/masks/pexels-laura-james-6097864.png  \n",
            "  inflating: ./mask_segmentation/data/masks/pexels-laura-james-6097868.png  \n",
            "  inflating: ./mask_segmentation/data/masks/pexels-laura-james-6097869.png  \n",
            "  inflating: ./mask_segmentation/data/masks/pexels-laura-james-6097870.png  \n",
            "  inflating: ./mask_segmentation/data/masks/pexels-laura-james-6097877.png  \n",
            "  inflating: ./mask_segmentation/data/masks/pexels-laura-james-6097879.png  \n",
            "  inflating: ./mask_segmentation/data/masks/pexels-laura-james-6097887.png  \n",
            "  inflating: ./mask_segmentation/data/masks/pexels-laura-james-6097935.png  \n",
            "  inflating: ./mask_segmentation/data/masks/pexels-laura-james-6097936.png  \n",
            "  inflating: ./mask_segmentation/data/masks/pexels-laura-james-6097938.png  \n",
            "  inflating: ./mask_segmentation/data/masks/pexels-laura-james-6097939.png  \n",
            "  inflating: ./mask_segmentation/data/masks/pexels-laura-james-6097940.png  \n",
            "  inflating: ./mask_segmentation/data/masks/pexels-laura-james-6097947.png  \n",
            "  inflating: ./mask_segmentation/data/masks/pexels-laura-james-6097950.png  \n",
            "  inflating: ./mask_segmentation/data/masks/pexels-laura-james-6097953.png  \n",
            "  inflating: ./mask_segmentation/data/masks/pexels-laura-james-6097958.png  \n",
            "  inflating: ./mask_segmentation/data/masks/pexels-laura-james-6097961.png  \n",
            "  inflating: ./mask_segmentation/data/masks/pexels-laura-james-6097962.png  \n",
            "  inflating: ./mask_segmentation/data/masks/pexels-laura-james-6097963.png  \n",
            "  inflating: ./mask_segmentation/data/masks/pexels-laura-james-6097964.png  \n",
            "  inflating: ./mask_segmentation/data/masks/pexels-laura-james-6097966.png  \n",
            "  inflating: ./mask_segmentation/data/masks/pexels-laura-james-6097973.png  \n",
            "  inflating: ./mask_segmentation/data/masks/pexels-laura-james-6097974.png  \n",
            "  inflating: ./mask_segmentation/data/masks/pexels-laura-james-6097978.png  \n",
            "  inflating: ./mask_segmentation/data/masks/pexels-laura-james-6097981.png  \n",
            "  inflating: ./mask_segmentation/data/masks/pexels-laura-james-6097982.png  \n",
            "  inflating: ./mask_segmentation/data/masks/pexels-laura-james-6097984.png  \n",
            "  inflating: ./mask_segmentation/data/masks/pexels-laura-james-6097985.png  \n",
            "  inflating: ./mask_segmentation/data/masks/pexels-laura-james-6097988.png  \n",
            "  inflating: ./mask_segmentation/data/masks/pexels-laura-james-6097993.png  \n",
            "  inflating: ./mask_segmentation/data/masks/pexels-laura-james-6097996.png  \n",
            "  inflating: ./mask_segmentation/data/masks/pexels-laura-james-6098002.png  \n",
            "  inflating: ./mask_segmentation/data/masks/pexels-laura-james-6098003.png  \n",
            "  inflating: ./mask_segmentation/data/masks/pexels-laura-james-6098004.png  \n",
            "  inflating: ./mask_segmentation/data/masks/pexels-laura-james-6098005.png  \n",
            "  inflating: ./mask_segmentation/data/masks/pexels-laura-james-6098050.png  \n",
            "  inflating: ./mask_segmentation/data/masks/pexels-laura-james-6098051.png  \n",
            "  inflating: ./mask_segmentation/data/masks/pexels-laura-james-6098060.png  \n",
            "  inflating: ./mask_segmentation/data/masks/pexels-laura-james-6098061.png  \n",
            "  inflating: ./mask_segmentation/data/masks/pexels-laura-james-6098064.png  \n",
            "  inflating: ./mask_segmentation/data/masks/pexels-laura-james-6098067.png  \n",
            "  inflating: ./mask_segmentation/data/masks/pexels-laura-james-6098068.png  \n",
            "  inflating: ./mask_segmentation/data/masks/pexels-laura-james-6098069.png  \n",
            "  inflating: ./mask_segmentation/data/masks/pexels-laura-james-6098070.png  \n",
            "  inflating: ./mask_segmentation/data/masks/pexels-laura-james-6098071.png  \n",
            "  inflating: ./mask_segmentation/data/masks/pexels-laura-james-6098072.png  \n",
            "  inflating: ./mask_segmentation/data/masks/pexels-laura-james-6098073.png  \n",
            "  inflating: ./mask_segmentation/data/masks/pexels-lisa-fotios-6140873.png  \n",
            "  inflating: ./mask_segmentation/data/masks/pexels-lucian-potlog-3991782.png  \n",
            "  inflating: ./mask_segmentation/data/masks/pexels-maksim-goncharenok-4662960.png  \n",
            "  inflating: ./mask_segmentation/data/masks/pexels-marcelo-chagas-4565420.png  \n",
            "  inflating: ./mask_segmentation/data/masks/pexels-min-an-1165655.png  \n",
            "  inflating: ./mask_segmentation/data/masks/pexels-nandhu-kumar-3991311.png  \n",
            "  inflating: ./mask_segmentation/data/masks/pexels-natasha-lois-5070755.png  \n",
            "  inflating: ./mask_segmentation/data/masks/pexels-norma-mortenson-4393254.png  \n",
            "  inflating: ./mask_segmentation/data/masks/pexels-norma-mortenson-4393429.png  \n",
            "  inflating: ./mask_segmentation/data/masks/pexels-nothing-ahead-3571628.png  \n",
            "  inflating: ./mask_segmentation/data/masks/pexels-oleg-magni-4058869.png  \n",
            "  inflating: ./mask_segmentation/data/masks/pexels-oleg-magni-4058871.png  \n",
            "  inflating: ./mask_segmentation/data/masks/pexels-oleg-magni-4058872.png  \n",
            "  inflating: ./mask_segmentation/data/masks/pexels-ono-kosuki-5999784.png  \n",
            "  inflating: ./mask_segmentation/data/masks/pexels-ono-kosuki-5999789.png  \n",
            "  inflating: ./mask_segmentation/data/masks/pexels-ono-kosuki-5999796.png  \n",
            "  inflating: ./mask_segmentation/data/masks/pexels-ono-kosuki-5999938.png  \n",
            "  inflating: ./mask_segmentation/data/masks/pexels-ono-kosuki-5999940.png  \n",
            "  inflating: ./mask_segmentation/data/masks/pexels-ono-kosuki-5999945.png  \n",
            "  inflating: ./mask_segmentation/data/masks/pexels-pixabay-209271.png  \n",
            "  inflating: ./mask_segmentation/data/masks/pexels-rfstudio-4177563.png  \n",
            "  inflating: ./mask_segmentation/data/masks/pexels-rfstudio-4177606.png  \n",
            "  inflating: ./mask_segmentation/data/masks/pexels-rfstudio-4177640.png  \n",
            "  inflating: ./mask_segmentation/data/masks/pexels-rfstudio-4177650.png  \n",
            "  inflating: ./mask_segmentation/data/masks/pexels-rfstudio-4177657.png  \n",
            "  inflating: ./mask_segmentation/data/masks/pexels-samson-katt-5225252.png  \n",
            "  inflating: ./mask_segmentation/data/masks/pexels-sora-shimazaki-5938383.png  \n",
            "  inflating: ./mask_segmentation/data/masks/pexels-sora-shimazaki-5938384.png  \n",
            "  inflating: ./mask_segmentation/data/masks/pexels-sora-shimazaki-5938389.png  \n",
            "  inflating: ./mask_segmentation/data/masks/pexels-sora-shimazaki-5938616.png  \n",
            "  inflating: ./mask_segmentation/data/masks/pexels-sora-shimazaki-5938619.png  \n",
            "  inflating: ./mask_segmentation/data/masks/pexels-sora-shimazaki-5938621.png  \n",
            "  inflating: ./mask_segmentation/data/masks/pexels-sunyu-kim-2001768.png  \n",
            "  inflating: ./mask_segmentation/data/masks/pexels-thirdman-5327585.png  \n",
            "  inflating: ./mask_segmentation/data/masks/pexels-thirdman-5327589.png  \n",
            "  inflating: ./mask_segmentation/data/masks/pexels-thirdman-5327872.png  \n",
            "  inflating: ./mask_segmentation/data/masks/pexels-thirdman-5684642.png  \n",
            "  inflating: ./mask_segmentation/data/masks/pexels-thirdman-5961414.png  \n",
            "  inflating: ./mask_segmentation/data/masks/pexels-tima-miroshnichenko-5951644.png  \n",
            "  inflating: ./mask_segmentation/data/masks/pexels-tima-miroshnichenko-6826787.png  \n",
            "  inflating: ./mask_segmentation/data/masks/pexels-wendy-wei-4118828.png  \n",
            "  inflating: ./mask_segmentation/data/masks/pexels-yogendra-singh-4037279.png  \n",
            "  inflating: ./mask_segmentation/data/masks/pexels-zichuan-han-3941299.png  \n",
            "  inflating: ./mask_segmentation/data/masks/pexels-╨┐╨░╨▓╨╡╨╗-╤Б╨╛╤А╨╛╨║╨╕╨╜-2324837.png  \n",
            "  inflating: ./mask_segmentation/data/masks/student-5520411_1920.png  \n",
            "  inflating: ./mask_segmentation/data/masks/student-5982704_1920.png  \n",
            "  inflating: ./mask_segmentation/data/masks/teacher-5560962_1920.png  \n",
            "  inflating: ./mask_segmentation/data/masks/woman-5951721_1920.png  \n"
          ]
        }
      ]
    },
    {
      "cell_type": "code",
      "execution_count": null,
      "metadata": {
        "id": "WLL3sqvtQB8_"
      },
      "outputs": [],
      "source": [
        "! python train.py --data_path \"data/\" --cpu_number 1"
      ]
    }
  ],
  "metadata": {
    "language_info": {
      "name": "python"
    },
    "orig_nbformat": 4,
    "colab": {
      "name": "colab_run.ipynb",
      "provenance": []
    },
    "kernelspec": {
      "name": "python3",
      "display_name": "Python 3"
    }
  },
  "nbformat": 4,
  "nbformat_minor": 0
}